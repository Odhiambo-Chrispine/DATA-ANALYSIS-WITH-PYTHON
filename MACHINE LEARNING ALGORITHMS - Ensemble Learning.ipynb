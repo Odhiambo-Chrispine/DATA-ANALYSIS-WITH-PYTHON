{
 "cells": [
  {
   "cell_type": "markdown",
   "id": "84c46c72",
   "metadata": {},
   "source": [
    "# Importing Relevant Libraries"
   ]
  },
  {
   "cell_type": "code",
   "execution_count": 1,
   "id": "96aa1422",
   "metadata": {},
   "outputs": [],
   "source": [
    "import pandas as pd\n",
    "from sklearn import model_selection\n",
    "from sklearn.ensemble import AdaBoostClassifier"
   ]
  },
  {
   "cell_type": "markdown",
   "id": "3ff29837",
   "metadata": {},
   "source": [
    "# Loading Dataset"
   ]
  },
  {
   "cell_type": "code",
   "execution_count": 2,
   "id": "3f9e6488",
   "metadata": {},
   "outputs": [],
   "source": [
    "data=pd.read_csv('pima-indians-diabetes.csv')"
   ]
  },
  {
   "cell_type": "markdown",
   "id": "816493c7",
   "metadata": {},
   "source": [
    "# Building an array and setting the seeds"
   ]
  },
  {
   "cell_type": "code",
   "execution_count": 3,
   "id": "588ed5c8",
   "metadata": {},
   "outputs": [],
   "source": [
    "array=data.values\n",
    "x=array[:,0:8]\n",
    "y=array[:,8]\n",
    "seed=7\n",
    "num_trees=30"
   ]
  },
  {
   "cell_type": "markdown",
   "id": "c2bb607f",
   "metadata": {},
   "source": [
    "# Building Classifiers by applying AdaBoostClussifier"
   ]
  },
  {
   "cell_type": "code",
   "execution_count": 4,
   "id": "70175ddc",
   "metadata": {},
   "outputs": [
    {
     "name": "stdout",
     "output_type": "stream",
     "text": [
      "0.760457963089542\n"
     ]
    }
   ],
   "source": [
    "kfold=model_selection.KFold(n_splits=10,random_state=None)\n",
    "model=AdaBoostClassifier(n_estimators=num_trees)\n",
    "results=model_selection.cross_val_score(model,x,y,cv=kfold)\n",
    "print(results.mean())"
   ]
  },
  {
   "cell_type": "markdown",
   "id": "dbe7b130",
   "metadata": {},
   "source": [
    "# Applying XGBoost Algorithm"
   ]
  },
  {
   "cell_type": "code",
   "execution_count": null,
   "id": "d39a8a0c",
   "metadata": {},
   "outputs": [],
   "source": []
  }
 ],
 "metadata": {
  "kernelspec": {
   "display_name": "Python 3 (ipykernel)",
   "language": "python",
   "name": "python3"
  },
  "language_info": {
   "codemirror_mode": {
    "name": "ipython",
    "version": 3
   },
   "file_extension": ".py",
   "mimetype": "text/x-python",
   "name": "python",
   "nbconvert_exporter": "python",
   "pygments_lexer": "ipython3",
   "version": "3.9.7"
  }
 },
 "nbformat": 4,
 "nbformat_minor": 5
}
