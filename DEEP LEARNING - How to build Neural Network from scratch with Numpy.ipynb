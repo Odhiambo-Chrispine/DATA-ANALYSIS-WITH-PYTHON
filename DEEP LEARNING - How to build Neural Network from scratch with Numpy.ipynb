{
 "cells": [
  {
   "cell_type": "markdown",
   "id": "1b79d76d",
   "metadata": {},
   "source": [
    "# Simple Linear Regression"
   ]
  },
  {
   "cell_type": "markdown",
   "id": "46170f9b",
   "metadata": {},
   "source": [
    "## Importing Relevant Libraries"
   ]
  },
  {
   "cell_type": "code",
   "execution_count": 1,
   "id": "c8ccea40",
   "metadata": {},
   "outputs": [],
   "source": [
    "import numpy as np # it is meant for mathematical operations\n",
    "import matplotlib.pyplot as plt # it is meant for nice graphs\n",
    "from mpl_toolkits.mplot3d import Axes3D # for nice 3D graphs"
   ]
  },
  {
   "cell_type": "markdown",
   "id": "c534ceb9",
   "metadata": {},
   "source": [
    "## Generating Random Input data to train on"
   ]
  },
  {
   "cell_type": "code",
   "execution_count": 2,
   "id": "5a4dad69",
   "metadata": {},
   "outputs": [
    {
     "name": "stdout",
     "output_type": "stream",
     "text": [
      "(1000, 2)\n"
     ]
    }
   ],
   "source": [
    "observations = 1000\n",
    "\n",
    "# np.random.uniform function -> draws random value from interval(low,high),where each number has got equal chances for being selected. However, size=(number of observation X number of variables)\n",
    "x=np.random.uniform(low=-10,high=10,size=(observations,1))\n",
    "z=np.random.uniform(-10,10,(observations,1))\n",
    "\n",
    "# from linear model inputs=(number of observations X number of variables) e.g inputs=(1000X2)\n",
    "#np.column_stack function -> takes a sequence of 1D arrays and stack them into 2D arrays\n",
    "inputs=np.column_stack((x,z))\n",
    "\n",
    "#printing the shape of the inputs to check whether we are right\n",
    "print(inputs.shape)"
   ]
  },
  {
   "cell_type": "markdown",
   "id": "2f76dbea",
   "metadata": {},
   "source": [
    "## Creating the targets we will aim at"
   ]
  },
  {
   "cell_type": "code",
   "execution_count": 3,
   "id": "dd2eeaa2",
   "metadata": {},
   "outputs": [
    {
     "name": "stdout",
     "output_type": "stream",
     "text": [
      "(1000, 1)\n"
     ]
    }
   ],
   "source": [
    "#targets = f(x,z)= (weight1*x + weight2*z + bias(intercept) + noise) -> we introduce noise since real data contains noise\n",
    "noise=np.random.uniform(-1,1,(observations,1))\n",
    "\n",
    "targets= 2*x + 3*z + 5 + noise\n",
    "\n",
    "print(targets.shape)"
   ]
  },
  {
   "cell_type": "markdown",
   "id": "213efa2b",
   "metadata": {},
   "source": [
    "## Plotting the training data"
   ]
  },
  {
   "cell_type": "markdown",
   "id": "68e32fa9",
   "metadata": {},
   "source": [
    "### The point is to see that there is a strong trend that our model should learn to produce"
   ]
  },
  {
   "cell_type": "code",
   "execution_count": 4,
   "id": "313f4bf1",
   "metadata": {},
   "outputs": [],
   "source": [
    "#targets=targets.reshape(observations,1)\n",
    "#fig=plt.figure()\n",
    "#ax=fig.add_subplot(111,projection='3d')\n",
    "#ax.plot(x, z, targets)\n",
    "#ax.view(azim=90)\n",
    "#plt.show()\n",
    "#targets=targets.reshape(observations,1)"
   ]
  },
  {
   "cell_type": "markdown",
   "id": "c2e040ad",
   "metadata": {},
   "source": [
    "# Initialize variables"
   ]
  },
  {
   "cell_type": "code",
   "execution_count": 5,
   "id": "35793a43",
   "metadata": {},
   "outputs": [
    {
     "name": "stdout",
     "output_type": "stream",
     "text": [
      "[[-0.07963021]\n",
      " [ 0.08204952]]\n",
      "[0.08579553]\n"
     ]
    }
   ],
   "source": [
    "# initial weights and biases(scalar) will be randomly from the interval[-0.1,0.1]\n",
    "init_range=0.1\n",
    "\n",
    "weights=np.random.uniform(-init_range,init_range,size=(2,1))\n",
    "biases=np.random.uniform(-init_range,init_range,size=1)\n",
    "\n",
    "print(weights)\n",
    "print(biases)"
   ]
  },
  {
   "cell_type": "markdown",
   "id": "6bbd9047",
   "metadata": {},
   "source": [
    "## Setting a Learning Rate (eta)"
   ]
  },
  {
   "cell_type": "code",
   "execution_count": 6,
   "id": "3275acf5",
   "metadata": {},
   "outputs": [],
   "source": [
    "# Learning rate affects the speed of the optimization\n",
    "learning_rate=0.02"
   ]
  },
  {
   "cell_type": "markdown",
   "id": "f8ac3b6a",
   "metadata": {},
   "source": [
    "## Train the model"
   ]
  },
  {
   "cell_type": "markdown",
   "id": "0fb138aa",
   "metadata": {},
   "source": [
    "### Obtaining the values of the average loss function - linear functions that will fit the model very well"
   ]
  },
  {
   "cell_type": "code",
   "execution_count": 7,
   "id": "e37cd1a4",
   "metadata": {},
   "outputs": [
    {
     "name": "stdout",
     "output_type": "stream",
     "text": [
      "230.18607979851677\n",
      "34.26670764769393\n",
      "13.605836079182403\n",
      "11.051762325408847\n",
      "10.40641166863237\n",
      "9.978317989894737\n",
      "9.587800118639409\n",
      "9.214975735746052\n",
      "8.85713481166184\n",
      "8.513461795288613\n",
      "8.183371612288344\n",
      "7.866324664314903\n",
      "7.561805236203512\n",
      "7.269318288228164\n",
      "6.988388376293182\n",
      "6.718558846713488\n",
      "6.45939109006388\n",
      "6.2104638277526565\n",
      "5.971372427174622\n",
      "5.741728243971713\n",
      "5.52115799028865\n",
      "5.30930312799143\n",
      "5.105819285861629\n",
      "4.91037569981914\n",
      "4.722654675263386\n",
      "4.542351070659035\n",
      "4.369171801526785\n",
      "4.202835364032975\n",
      "4.043071377403587\n",
      "3.8896201444188403\n",
      "3.7422322292739647\n",
      "3.6006680521199623\n",
      "3.4646974996252706\n",
      "3.3340995509252997\n",
      "3.2086619183518326\n",
      "3.0881807023582812\n",
      "2.9724600600798747\n",
      "2.861311886990019\n",
      "2.7545555111353917\n",
      "2.652017399452706\n",
      "2.553530875689774\n",
      "2.458935849472374\n",
      "2.3680785560764757\n",
      "2.280811306482865\n",
      "2.1969922473078323\n",
      "2.1164851302197576\n",
      "2.0391590904666903\n",
      "1.964888434155007\n",
      "1.8935524339333036\n",
      "1.825035132749441\n",
      "1.7592251553617266\n",
      "1.6960155272978679\n",
      "1.6353035009673846\n",
      "1.5769903886448509\n",
      "1.520981402052472\n",
      "1.4671854982812143\n",
      "1.4155152318000825\n",
      "1.3658866123129352\n",
      "1.318218968231793\n",
      "1.2724348155447596\n",
      "1.2284597318653254\n",
      "1.1862222354583891\n",
      "1.1456536690463097\n",
      "1.1066880882061259\n",
      "1.069262154176554\n",
      "1.033315030900481\n",
      "0.9987882861356284\n",
      "0.9656257964726316\n",
      "0.9337736561061317\n",
      "0.9031800892106023\n",
      "0.8737953657784651\n",
      "0.8455717207836938\n",
      "0.818463276539509\n",
      "0.7924259681239516\n",
      "0.7674174717521138\n",
      "0.7433971359785991\n",
      "0.7203259156183823\n",
      "0.6981663082786462\n",
      "0.6768822933984434\n",
      "0.6564392736970814\n",
      "0.6368040189360545\n",
      "0.6179446119031117\n",
      "0.5998303965306586\n",
      "0.5824319280641567\n",
      "0.56572092519951\n",
      "0.5496702241116596\n",
      "0.5342537342996364\n",
      "0.5194463961763113\n",
      "0.5052241403339024\n",
      "0.49156384841902356\n",
      "0.4784433155536768\n",
      "0.46584121424110286\n",
      "0.45373705969781974\n",
      "0.4421111765554979\n",
      "0.43094466687854344\n",
      "0.4202193794454021\n",
      "0.4099178802436495\n",
      "0.40002342413091346\n",
      "0.3905199276155516\n",
      "0.38139194271284815\n"
     ]
    }
   ],
   "source": [
    "# outputs = (inputs*weights + biases), we will use function np.dot(A,B)/A.dot(B) -> used for multiplying matrices\n",
    "# delta records the difference between the outputs and targets. It is important for the update rule\n",
    "# np.sum(a) function -> allows us to sum all the values in the arrays. The lower the loss the higher the accuracy\n",
    "# np.dot function -> also means sum product\n",
    "#inputs.T -> is a method used for transposing matrices\n",
    "# by the end, the weights,biases and outputs should be able to contain the optimized values from the last iterations from the loop and therby becomes optimized\n",
    "\n",
    "for i in range(100):\n",
    "    outputs=np.dot(inputs,weights) + biases\n",
    "    deltas=outputs - targets\n",
    "    \n",
    "    loss=np.sum(deltas**2)/2/observations #average loss (the number of loss per obsevation)\n",
    "    \n",
    "    print(loss)\n",
    "    \n",
    "    delta_scaled=deltas/observations\n",
    "    \n",
    "    weights=weights-learning_rate*np.dot(inputs.T,delta_scaled) #updating the weights (under optimization) following the gradient methodology\n",
    "    biases=biases-learning_rate*np.sum(delta_scaled)#updating the biases (under optimization) following the gradient methodology\n",
    "    "
   ]
  },
  {
   "cell_type": "markdown",
   "id": "de1698f9",
   "metadata": {},
   "source": [
    "## Printing the weights and biases and check whether we have worked correctly"
   ]
  },
  {
   "cell_type": "code",
   "execution_count": 8,
   "id": "676e3ff5",
   "metadata": {},
   "outputs": [
    {
     "name": "stdout",
     "output_type": "stream",
     "text": [
      "[[1.99997082]\n",
      " [2.99997276]] [4.34048952]\n"
     ]
    }
   ],
   "source": [
    "# when the number of iterations is increased, the bias increases too \n",
    "print(weights,biases)"
   ]
  },
  {
   "cell_type": "markdown",
   "id": "56c62d27",
   "metadata": {},
   "source": [
    "## Plotting last outputs vs targets"
   ]
  },
  {
   "cell_type": "markdown",
   "id": "73976d5e",
   "metadata": {},
   "source": [
    "### Since they are the last ones at the end of training, they represent the final model accuracy. The closer this plot is to 45 degrees line, the closer the target and output values are."
   ]
  },
  {
   "cell_type": "code",
   "execution_count": 9,
   "id": "f617a37f",
   "metadata": {},
   "outputs": [
    {
     "data": {
      "image/png": "[encoded data removed]",
      "text/plain": [
       "<Figure size 432x288 with 1 Axes>"
      ]
     },
     "metadata": {
      "needs_background": "light"
     },
     "output_type": "display_data"
    }
   ],
   "source": [
    "plt.plot(outputs,targets)\n",
    "plt.xlabel(\"outputs\")\n",
    "plt.ylabel(\"targets\")\n",
    "plt.show()"
   ]
  },
  {
   "cell_type": "code",
   "execution_count": null,
   "id": "d2ebe35b",
   "metadata": {},
   "outputs": [],
   "source": []
  }
 ],
 "metadata": {
  "kernelspec": {
   "display_name": "Python 3 (ipykernel)",
   "language": "python",
   "name": "python3"
  },
  "language_info": {
   "codemirror_mode": {
    "name": "ipython",
    "version": 3
   },
   "file_extension": ".py",
   "mimetype": "text/x-python",
   "name": "python",
   "nbconvert_exporter": "python",
   "pygments_lexer": "ipython3",
   "version": "3.9.7"
  }
 },
 "nbformat": 4,
 "nbformat_minor": 5
}
