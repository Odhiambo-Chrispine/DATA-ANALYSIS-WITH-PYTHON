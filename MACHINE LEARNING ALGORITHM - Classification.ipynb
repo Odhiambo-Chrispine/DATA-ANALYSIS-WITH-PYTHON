{
 "cells": [
  {
   "cell_type": "code",
   "execution_count": 1,
   "id": "6e1131ea",
   "metadata": {},
   "outputs": [],
   "source": [
    "import pandas as pd\n",
    "import numpy as np\n",
    "import matplotlib.pyplot as plt\n",
    "import seaborn as sns\n",
    "%matplotlib inline\n",
    "import warnings\n",
    "warnings.filterwarnings('ignore')"
   ]
  },
  {
   "cell_type": "code",
   "execution_count": 2,
   "id": "2b7b491a",
   "metadata": {},
   "outputs": [
    {
     "data": {
      "text/html": [
       "<div>\n",
       "<style scoped>\n",
       "    .dataframe tbody tr th:only-of-type {\n",
       "        vertical-align: middle;\n",
       "    }\n",
       "\n",
       "    .dataframe tbody tr th {\n",
       "        vertical-align: top;\n",
       "    }\n",
       "\n",
       "    .dataframe thead th {\n",
       "        text-align: right;\n",
       "    }\n",
       "</style>\n",
       "<table border=\"1\" class=\"dataframe\">\n",
       "  <thead>\n",
       "    <tr style=\"text-align: right;\">\n",
       "      <th></th>\n",
       "      <th>meanfreq</th>\n",
       "      <th>sd</th>\n",
       "      <th>median</th>\n",
       "      <th>Q25</th>\n",
       "      <th>Q75</th>\n",
       "      <th>IQR</th>\n",
       "      <th>skew</th>\n",
       "      <th>kurt</th>\n",
       "      <th>sp.ent</th>\n",
       "      <th>sfm</th>\n",
       "      <th>...</th>\n",
       "      <th>centroid</th>\n",
       "      <th>meanfun</th>\n",
       "      <th>minfun</th>\n",
       "      <th>maxfun</th>\n",
       "      <th>meandom</th>\n",
       "      <th>mindom</th>\n",
       "      <th>maxdom</th>\n",
       "      <th>dfrange</th>\n",
       "      <th>modindx</th>\n",
       "      <th>label</th>\n",
       "    </tr>\n",
       "  </thead>\n",
       "  <tbody>\n",
       "    <tr>\n",
       "      <th>0</th>\n",
       "      <td>0.059781</td>\n",
       "      <td>0.064241</td>\n",
       "      <td>0.032027</td>\n",
       "      <td>0.015071</td>\n",
       "      <td>0.090193</td>\n",
       "      <td>0.075122</td>\n",
       "      <td>12.863462</td>\n",
       "      <td>274.402906</td>\n",
       "      <td>0.893369</td>\n",
       "      <td>0.491918</td>\n",
       "      <td>...</td>\n",
       "      <td>0.059781</td>\n",
       "      <td>0.084279</td>\n",
       "      <td>0.015702</td>\n",
       "      <td>0.275862</td>\n",
       "      <td>0.007812</td>\n",
       "      <td>0.007812</td>\n",
       "      <td>0.007812</td>\n",
       "      <td>0.000000</td>\n",
       "      <td>0.000000</td>\n",
       "      <td>male</td>\n",
       "    </tr>\n",
       "    <tr>\n",
       "      <th>1</th>\n",
       "      <td>0.066009</td>\n",
       "      <td>0.067310</td>\n",
       "      <td>0.040229</td>\n",
       "      <td>0.019414</td>\n",
       "      <td>0.092666</td>\n",
       "      <td>0.073252</td>\n",
       "      <td>22.423285</td>\n",
       "      <td>634.613855</td>\n",
       "      <td>0.892193</td>\n",
       "      <td>0.513724</td>\n",
       "      <td>...</td>\n",
       "      <td>0.066009</td>\n",
       "      <td>0.107937</td>\n",
       "      <td>0.015826</td>\n",
       "      <td>0.250000</td>\n",
       "      <td>0.009014</td>\n",
       "      <td>0.007812</td>\n",
       "      <td>0.054688</td>\n",
       "      <td>0.046875</td>\n",
       "      <td>0.052632</td>\n",
       "      <td>male</td>\n",
       "    </tr>\n",
       "    <tr>\n",
       "      <th>2</th>\n",
       "      <td>0.077316</td>\n",
       "      <td>0.083829</td>\n",
       "      <td>0.036718</td>\n",
       "      <td>0.008701</td>\n",
       "      <td>0.131908</td>\n",
       "      <td>0.123207</td>\n",
       "      <td>30.757155</td>\n",
       "      <td>1024.927705</td>\n",
       "      <td>0.846389</td>\n",
       "      <td>0.478905</td>\n",
       "      <td>...</td>\n",
       "      <td>0.077316</td>\n",
       "      <td>0.098706</td>\n",
       "      <td>0.015656</td>\n",
       "      <td>0.271186</td>\n",
       "      <td>0.007990</td>\n",
       "      <td>0.007812</td>\n",
       "      <td>0.015625</td>\n",
       "      <td>0.007812</td>\n",
       "      <td>0.046512</td>\n",
       "      <td>male</td>\n",
       "    </tr>\n",
       "    <tr>\n",
       "      <th>3</th>\n",
       "      <td>0.151228</td>\n",
       "      <td>0.072111</td>\n",
       "      <td>0.158011</td>\n",
       "      <td>0.096582</td>\n",
       "      <td>0.207955</td>\n",
       "      <td>0.111374</td>\n",
       "      <td>1.232831</td>\n",
       "      <td>4.177296</td>\n",
       "      <td>0.963322</td>\n",
       "      <td>0.727232</td>\n",
       "      <td>...</td>\n",
       "      <td>0.151228</td>\n",
       "      <td>0.088965</td>\n",
       "      <td>0.017798</td>\n",
       "      <td>0.250000</td>\n",
       "      <td>0.201497</td>\n",
       "      <td>0.007812</td>\n",
       "      <td>0.562500</td>\n",
       "      <td>0.554688</td>\n",
       "      <td>0.247119</td>\n",
       "      <td>male</td>\n",
       "    </tr>\n",
       "    <tr>\n",
       "      <th>4</th>\n",
       "      <td>0.135120</td>\n",
       "      <td>0.079146</td>\n",
       "      <td>0.124656</td>\n",
       "      <td>0.078720</td>\n",
       "      <td>0.206045</td>\n",
       "      <td>0.127325</td>\n",
       "      <td>1.101174</td>\n",
       "      <td>4.333713</td>\n",
       "      <td>0.971955</td>\n",
       "      <td>0.783568</td>\n",
       "      <td>...</td>\n",
       "      <td>0.135120</td>\n",
       "      <td>0.106398</td>\n",
       "      <td>0.016931</td>\n",
       "      <td>0.266667</td>\n",
       "      <td>0.712812</td>\n",
       "      <td>0.007812</td>\n",
       "      <td>5.484375</td>\n",
       "      <td>5.476562</td>\n",
       "      <td>0.208274</td>\n",
       "      <td>male</td>\n",
       "    </tr>\n",
       "    <tr>\n",
       "      <th>...</th>\n",
       "      <td>...</td>\n",
       "      <td>...</td>\n",
       "      <td>...</td>\n",
       "      <td>...</td>\n",
       "      <td>...</td>\n",
       "      <td>...</td>\n",
       "      <td>...</td>\n",
       "      <td>...</td>\n",
       "      <td>...</td>\n",
       "      <td>...</td>\n",
       "      <td>...</td>\n",
       "      <td>...</td>\n",
       "      <td>...</td>\n",
       "      <td>...</td>\n",
       "      <td>...</td>\n",
       "      <td>...</td>\n",
       "      <td>...</td>\n",
       "      <td>...</td>\n",
       "      <td>...</td>\n",
       "      <td>...</td>\n",
       "      <td>...</td>\n",
       "    </tr>\n",
       "    <tr>\n",
       "      <th>3163</th>\n",
       "      <td>0.131884</td>\n",
       "      <td>0.084734</td>\n",
       "      <td>0.153707</td>\n",
       "      <td>0.049285</td>\n",
       "      <td>0.201144</td>\n",
       "      <td>0.151859</td>\n",
       "      <td>1.762129</td>\n",
       "      <td>6.630383</td>\n",
       "      <td>0.962934</td>\n",
       "      <td>0.763182</td>\n",
       "      <td>...</td>\n",
       "      <td>0.131884</td>\n",
       "      <td>0.182790</td>\n",
       "      <td>0.083770</td>\n",
       "      <td>0.262295</td>\n",
       "      <td>0.832899</td>\n",
       "      <td>0.007812</td>\n",
       "      <td>4.210938</td>\n",
       "      <td>4.203125</td>\n",
       "      <td>0.161929</td>\n",
       "      <td>female</td>\n",
       "    </tr>\n",
       "    <tr>\n",
       "      <th>3164</th>\n",
       "      <td>0.116221</td>\n",
       "      <td>0.089221</td>\n",
       "      <td>0.076758</td>\n",
       "      <td>0.042718</td>\n",
       "      <td>0.204911</td>\n",
       "      <td>0.162193</td>\n",
       "      <td>0.693730</td>\n",
       "      <td>2.503954</td>\n",
       "      <td>0.960716</td>\n",
       "      <td>0.709570</td>\n",
       "      <td>...</td>\n",
       "      <td>0.116221</td>\n",
       "      <td>0.188980</td>\n",
       "      <td>0.034409</td>\n",
       "      <td>0.275862</td>\n",
       "      <td>0.909856</td>\n",
       "      <td>0.039062</td>\n",
       "      <td>3.679688</td>\n",
       "      <td>3.640625</td>\n",
       "      <td>0.277897</td>\n",
       "      <td>female</td>\n",
       "    </tr>\n",
       "    <tr>\n",
       "      <th>3165</th>\n",
       "      <td>0.142056</td>\n",
       "      <td>0.095798</td>\n",
       "      <td>0.183731</td>\n",
       "      <td>0.033424</td>\n",
       "      <td>0.224360</td>\n",
       "      <td>0.190936</td>\n",
       "      <td>1.876502</td>\n",
       "      <td>6.604509</td>\n",
       "      <td>0.946854</td>\n",
       "      <td>0.654196</td>\n",
       "      <td>...</td>\n",
       "      <td>0.142056</td>\n",
       "      <td>0.209918</td>\n",
       "      <td>0.039506</td>\n",
       "      <td>0.275862</td>\n",
       "      <td>0.494271</td>\n",
       "      <td>0.007812</td>\n",
       "      <td>2.937500</td>\n",
       "      <td>2.929688</td>\n",
       "      <td>0.194759</td>\n",
       "      <td>female</td>\n",
       "    </tr>\n",
       "    <tr>\n",
       "      <th>3166</th>\n",
       "      <td>0.143659</td>\n",
       "      <td>0.090628</td>\n",
       "      <td>0.184976</td>\n",
       "      <td>0.043508</td>\n",
       "      <td>0.219943</td>\n",
       "      <td>0.176435</td>\n",
       "      <td>1.591065</td>\n",
       "      <td>5.388298</td>\n",
       "      <td>0.950436</td>\n",
       "      <td>0.675470</td>\n",
       "      <td>...</td>\n",
       "      <td>0.143659</td>\n",
       "      <td>0.172375</td>\n",
       "      <td>0.034483</td>\n",
       "      <td>0.250000</td>\n",
       "      <td>0.791360</td>\n",
       "      <td>0.007812</td>\n",
       "      <td>3.593750</td>\n",
       "      <td>3.585938</td>\n",
       "      <td>0.311002</td>\n",
       "      <td>female</td>\n",
       "    </tr>\n",
       "    <tr>\n",
       "      <th>3167</th>\n",
       "      <td>0.165509</td>\n",
       "      <td>0.092884</td>\n",
       "      <td>0.183044</td>\n",
       "      <td>0.070072</td>\n",
       "      <td>0.250827</td>\n",
       "      <td>0.180756</td>\n",
       "      <td>1.705029</td>\n",
       "      <td>5.769115</td>\n",
       "      <td>0.938829</td>\n",
       "      <td>0.601529</td>\n",
       "      <td>...</td>\n",
       "      <td>0.165509</td>\n",
       "      <td>0.185607</td>\n",
       "      <td>0.062257</td>\n",
       "      <td>0.271186</td>\n",
       "      <td>0.227022</td>\n",
       "      <td>0.007812</td>\n",
       "      <td>0.554688</td>\n",
       "      <td>0.546875</td>\n",
       "      <td>0.350000</td>\n",
       "      <td>female</td>\n",
       "    </tr>\n",
       "  </tbody>\n",
       "</table>\n",
       "<p>3168 rows × 21 columns</p>\n",
       "</div>"
      ],
      "text/plain": [
       "      meanfreq        sd    median       Q25       Q75       IQR       skew  \\\n",
       "0     0.059781  0.064241  0.032027  0.015071  0.090193  0.075122  12.863462   \n",
       "1     0.066009  0.067310  0.040229  0.019414  0.092666  0.073252  22.423285   \n",
       "2     0.077316  0.083829  0.036718  0.008701  0.131908  0.123207  30.757155   \n",
       "3     0.151228  0.072111  0.158011  0.096582  0.207955  0.111374   1.232831   \n",
       "4     0.135120  0.079146  0.124656  0.078720  0.206045  0.127325   1.101174   \n",
       "...        ...       ...       ...       ...       ...       ...        ...   \n",
       "3163  0.131884  0.084734  0.153707  0.049285  0.201144  0.151859   1.762129   \n",
       "3164  0.116221  0.089221  0.076758  0.042718  0.204911  0.162193   0.693730   \n",
       "3165  0.142056  0.095798  0.183731  0.033424  0.224360  0.190936   1.876502   \n",
       "3166  0.143659  0.090628  0.184976  0.043508  0.219943  0.176435   1.591065   \n",
       "3167  0.165509  0.092884  0.183044  0.070072  0.250827  0.180756   1.705029   \n",
       "\n",
       "             kurt    sp.ent       sfm  ...  centroid   meanfun    minfun  \\\n",
       "0      274.402906  0.893369  0.491918  ...  0.059781  0.084279  0.015702   \n",
       "1      634.613855  0.892193  0.513724  ...  0.066009  0.107937  0.015826   \n",
       "2     1024.927705  0.846389  0.478905  ...  0.077316  0.098706  0.015656   \n",
       "3        4.177296  0.963322  0.727232  ...  0.151228  0.088965  0.017798   \n",
       "4        4.333713  0.971955  0.783568  ...  0.135120  0.106398  0.016931   \n",
       "...           ...       ...       ...  ...       ...       ...       ...   \n",
       "3163     6.630383  0.962934  0.763182  ...  0.131884  0.182790  0.083770   \n",
       "3164     2.503954  0.960716  0.709570  ...  0.116221  0.188980  0.034409   \n",
       "3165     6.604509  0.946854  0.654196  ...  0.142056  0.209918  0.039506   \n",
       "3166     5.388298  0.950436  0.675470  ...  0.143659  0.172375  0.034483   \n",
       "3167     5.769115  0.938829  0.601529  ...  0.165509  0.185607  0.062257   \n",
       "\n",
       "        maxfun   meandom    mindom    maxdom   dfrange   modindx   label  \n",
       "0     0.275862  0.007812  0.007812  0.007812  0.000000  0.000000    male  \n",
       "1     0.250000  0.009014  0.007812  0.054688  0.046875  0.052632    male  \n",
       "2     0.271186  0.007990  0.007812  0.015625  0.007812  0.046512    male  \n",
       "3     0.250000  0.201497  0.007812  0.562500  0.554688  0.247119    male  \n",
       "4     0.266667  0.712812  0.007812  5.484375  5.476562  0.208274    male  \n",
       "...        ...       ...       ...       ...       ...       ...     ...  \n",
       "3163  0.262295  0.832899  0.007812  4.210938  4.203125  0.161929  female  \n",
       "3164  0.275862  0.909856  0.039062  3.679688  3.640625  0.277897  female  \n",
       "3165  0.275862  0.494271  0.007812  2.937500  2.929688  0.194759  female  \n",
       "3166  0.250000  0.791360  0.007812  3.593750  3.585938  0.311002  female  \n",
       "3167  0.271186  0.227022  0.007812  0.554688  0.546875  0.350000  female  \n",
       "\n",
       "[3168 rows x 21 columns]"
      ]
     },
     "execution_count": 2,
     "metadata": {},
     "output_type": "execute_result"
    }
   ],
   "source": [
    "data=pd.read_csv(\"voice-classification.csv\")\n",
    "data"
   ]
  },
  {
   "cell_type": "code",
   "execution_count": 3,
   "id": "ffc5b0b8",
   "metadata": {},
   "outputs": [
    {
     "data": {
      "text/plain": [
       "Index(['meanfreq', 'sd', 'median', 'Q25', 'Q75', 'IQR', 'skew', 'kurt',\n",
       "       'sp.ent', 'sfm', 'mode', 'centroid', 'meanfun', 'minfun', 'maxfun',\n",
       "       'meandom', 'mindom', 'maxdom', 'dfrange', 'modindx', 'label'],\n",
       "      dtype='object')"
      ]
     },
     "execution_count": 3,
     "metadata": {},
     "output_type": "execute_result"
    }
   ],
   "source": [
    "data.columns"
   ]
  },
  {
   "cell_type": "markdown",
   "id": "d7549b4b",
   "metadata": {},
   "source": [
    "# Specifying the shape of the variables required"
   ]
  },
  {
   "cell_type": "code",
   "execution_count": 4,
   "id": "ea2b99e5",
   "metadata": {},
   "outputs": [
    {
     "name": "stdout",
     "output_type": "stream",
     "text": [
      "shape of the dataset: (3168, 21)\n",
      "total number of the labels:3168\n",
      "number of the males:1584\n",
      "number of the females:1584\n"
     ]
    }
   ],
   "source": [
    "print(\"shape of the dataset:\",data.shape)\n",
    "print(\"total number of the labels:{}\".format(data.shape[0]))\n",
    "print(\"number of the males:{}\".format(data[data.label==\"male\"].shape[0]))\n",
    "print(\"number of the females:{}\".format(data[data.label==\"female\"].shape[0]))"
   ]
  },
  {
   "cell_type": "markdown",
   "id": "fdd6e493",
   "metadata": {},
   "source": [
    "# Specifying the variable and printing the shape"
   ]
  },
  {
   "cell_type": "code",
   "execution_count": 5,
   "id": "f429f603",
   "metadata": {},
   "outputs": [
    {
     "name": "stdout",
     "output_type": "stream",
     "text": [
      "(3168, 21)\n",
      "(3168, 20)\n"
     ]
    }
   ],
   "source": [
    "x=data.iloc[:,:-1]\n",
    "print(data.shape)\n",
    "print(x.shape)"
   ]
  },
  {
   "cell_type": "markdown",
   "id": "86a87cde",
   "metadata": {},
   "source": [
    "## Encoding the specified variable"
   ]
  },
  {
   "cell_type": "code",
   "execution_count": 6,
   "id": "7165f1a8",
   "metadata": {},
   "outputs": [],
   "source": [
    "from sklearn.preprocessing import LabelEncoder"
   ]
  },
  {
   "cell_type": "code",
   "execution_count": 7,
   "id": "76927b7f",
   "metadata": {},
   "outputs": [
    {
     "data": {
      "text/plain": [
       "array([1, 1, 1, ..., 0, 0, 0])"
      ]
     },
     "execution_count": 7,
     "metadata": {},
     "output_type": "execute_result"
    }
   ],
   "source": [
    "y=data.iloc[:,-1]\n",
    "gender_encoder=LabelEncoder()\n",
    "y=gender_encoder.fit_transform(y)\n",
    "y"
   ]
  },
  {
   "cell_type": "markdown",
   "id": "f13f58a8",
   "metadata": {},
   "source": [
    "# Training the data"
   ]
  },
  {
   "cell_type": "code",
   "execution_count": 8,
   "id": "b0945120",
   "metadata": {},
   "outputs": [],
   "source": [
    "from sklearn.model_selection import train_test_split"
   ]
  },
  {
   "cell_type": "code",
   "execution_count": 9,
   "id": "4417edb3",
   "metadata": {},
   "outputs": [],
   "source": [
    "x_train,x_test,y_train,y_test=train_test_split(x,y,test_size=0.3,random_state=100)"
   ]
  },
  {
   "cell_type": "markdown",
   "id": "34556a00",
   "metadata": {},
   "source": [
    "# Initialize SVC from support vector machine (svm)"
   ]
  },
  {
   "cell_type": "code",
   "execution_count": 10,
   "id": "7245c7b4",
   "metadata": {},
   "outputs": [],
   "source": [
    "from sklearn.svm import SVC\n",
    "from sklearn import metrics\n",
    "from sklearn.metrics import classification_report,confusion_matrix"
   ]
  },
  {
   "cell_type": "code",
   "execution_count": 11,
   "id": "e1bfe9d0",
   "metadata": {},
   "outputs": [],
   "source": [
    "svc_model=SVC()\n",
    "svc_model.fit(x_train,y_train)\n",
    "y_predict=svc_model.predict(x_test)"
   ]
  },
  {
   "cell_type": "markdown",
   "id": "886e764e",
   "metadata": {},
   "source": [
    "### printing the accuracy"
   ]
  },
  {
   "cell_type": "code",
   "execution_count": 12,
   "id": "2dccc76a",
   "metadata": {},
   "outputs": [
    {
     "data": {
      "text/plain": [
       "0.6771819137749737"
      ]
     },
     "execution_count": 12,
     "metadata": {},
     "output_type": "execute_result"
    }
   ],
   "source": [
    "accuracy=metrics.accuracy_score(y_test,y_predict)\n",
    "accuracy"
   ]
  },
  {
   "cell_type": "markdown",
   "id": "77c85c27",
   "metadata": {},
   "source": [
    "### printing confusion matrix"
   ]
  },
  {
   "cell_type": "code",
   "execution_count": 13,
   "id": "a72b5a29",
   "metadata": {},
   "outputs": [
    {
     "data": {
      "text/plain": [
       "array([[263, 208],\n",
       "       [ 99, 381]], dtype=int64)"
      ]
     },
     "execution_count": 13,
     "metadata": {},
     "output_type": "execute_result"
    }
   ],
   "source": [
    "confusion_matrix=confusion_matrix(y_test,y_predict)\n",
    "confusion_matrix"
   ]
  },
  {
   "cell_type": "markdown",
   "id": "375625be",
   "metadata": {},
   "source": [
    "# Initializing grid search for optimizing results further"
   ]
  },
  {
   "cell_type": "code",
   "execution_count": 14,
   "id": "9a2d1857",
   "metadata": {},
   "outputs": [],
   "source": [
    "from sklearn.model_selection import GridSearchCV"
   ]
  },
  {
   "cell_type": "markdown",
   "id": "cd31959c",
   "metadata": {},
   "source": [
    "### creating a dictionary and fit parameter of C and gamma"
   ]
  },
  {
   "cell_type": "code",
   "execution_count": 15,
   "id": "78a046bc",
   "metadata": {},
   "outputs": [],
   "source": [
    "param_grid={\"C\":[0.1,1,10,100],\"gamma\":[1,0.1,0.01,0.001]}"
   ]
  },
  {
   "cell_type": "markdown",
   "id": "f00f47f9",
   "metadata": {},
   "source": [
    "### initializing the grid search CV model that refit=True"
   ]
  },
  {
   "cell_type": "code",
   "execution_count": 16,
   "id": "b5193f6d",
   "metadata": {},
   "outputs": [
    {
     "name": "stdout",
     "output_type": "stream",
     "text": [
      "Fitting 5 folds for each of 16 candidates, totalling 80 fits\n",
      "[CV] END .....................................C=0.1, gamma=1; total time=   0.4s\n",
      "[CV] END .....................................C=0.1, gamma=1; total time=   0.4s\n",
      "[CV] END .....................................C=0.1, gamma=1; total time=   0.4s\n",
      "[CV] END .....................................C=0.1, gamma=1; total time=   0.4s\n",
      "[CV] END .....................................C=0.1, gamma=1; total time=   0.4s\n",
      "[CV] END ...................................C=0.1, gamma=0.1; total time=   0.3s\n",
      "[CV] END ...................................C=0.1, gamma=0.1; total time=   0.3s\n",
      "[CV] END ...................................C=0.1, gamma=0.1; total time=   0.3s\n",
      "[CV] END ...................................C=0.1, gamma=0.1; total time=   0.3s\n",
      "[CV] END ...................................C=0.1, gamma=0.1; total time=   0.3s\n",
      "[CV] END ..................................C=0.1, gamma=0.01; total time=   0.3s\n",
      "[CV] END ..................................C=0.1, gamma=0.01; total time=   0.3s\n",
      "[CV] END ..................................C=0.1, gamma=0.01; total time=   0.3s\n",
      "[CV] END ..................................C=0.1, gamma=0.01; total time=   0.3s\n",
      "[CV] END ..................................C=0.1, gamma=0.01; total time=   0.3s\n",
      "[CV] END .................................C=0.1, gamma=0.001; total time=   0.3s\n",
      "[CV] END .................................C=0.1, gamma=0.001; total time=   0.3s\n",
      "[CV] END .................................C=0.1, gamma=0.001; total time=   0.3s\n",
      "[CV] END .................................C=0.1, gamma=0.001; total time=   0.3s\n",
      "[CV] END .................................C=0.1, gamma=0.001; total time=   0.3s\n",
      "[CV] END .......................................C=1, gamma=1; total time=   0.3s\n",
      "[CV] END .......................................C=1, gamma=1; total time=   0.3s\n",
      "[CV] END .......................................C=1, gamma=1; total time=   0.3s\n",
      "[CV] END .......................................C=1, gamma=1; total time=   0.3s\n",
      "[CV] END .......................................C=1, gamma=1; total time=   0.4s\n",
      "[CV] END .....................................C=1, gamma=0.1; total time=   0.3s\n",
      "[CV] END .....................................C=1, gamma=0.1; total time=   0.3s\n",
      "[CV] END .....................................C=1, gamma=0.1; total time=   0.3s\n",
      "[CV] END .....................................C=1, gamma=0.1; total time=   0.2s\n",
      "[CV] END .....................................C=1, gamma=0.1; total time=   0.3s\n",
      "[CV] END ....................................C=1, gamma=0.01; total time=   0.3s\n",
      "[CV] END ....................................C=1, gamma=0.01; total time=   0.3s\n",
      "[CV] END ....................................C=1, gamma=0.01; total time=   0.3s\n",
      "[CV] END ....................................C=1, gamma=0.01; total time=   0.3s\n",
      "[CV] END ....................................C=1, gamma=0.01; total time=   0.3s\n",
      "[CV] END ...................................C=1, gamma=0.001; total time=   0.3s\n",
      "[CV] END ...................................C=1, gamma=0.001; total time=   0.3s\n",
      "[CV] END ...................................C=1, gamma=0.001; total time=   0.3s\n",
      "[CV] END ...................................C=1, gamma=0.001; total time=   0.3s\n",
      "[CV] END ...................................C=1, gamma=0.001; total time=   0.3s\n",
      "[CV] END ......................................C=10, gamma=1; total time=   0.4s\n",
      "[CV] END ......................................C=10, gamma=1; total time=   0.5s\n",
      "[CV] END ......................................C=10, gamma=1; total time=   0.4s\n",
      "[CV] END ......................................C=10, gamma=1; total time=   0.5s\n",
      "[CV] END ......................................C=10, gamma=1; total time=   0.4s\n",
      "[CV] END ....................................C=10, gamma=0.1; total time=   0.3s\n",
      "[CV] END ....................................C=10, gamma=0.1; total time=   0.3s\n",
      "[CV] END ....................................C=10, gamma=0.1; total time=   0.3s\n",
      "[CV] END ....................................C=10, gamma=0.1; total time=   0.3s\n",
      "[CV] END ....................................C=10, gamma=0.1; total time=   0.3s\n",
      "[CV] END ...................................C=10, gamma=0.01; total time=   0.2s\n",
      "[CV] END ...................................C=10, gamma=0.01; total time=   0.2s\n",
      "[CV] END ...................................C=10, gamma=0.01; total time=   0.2s\n",
      "[CV] END ...................................C=10, gamma=0.01; total time=   0.2s\n",
      "[CV] END ...................................C=10, gamma=0.01; total time=   0.2s\n",
      "[CV] END ..................................C=10, gamma=0.001; total time=   0.3s\n",
      "[CV] END ..................................C=10, gamma=0.001; total time=   0.3s\n",
      "[CV] END ..................................C=10, gamma=0.001; total time=   0.2s\n",
      "[CV] END ..................................C=10, gamma=0.001; total time=   0.3s\n",
      "[CV] END ..................................C=10, gamma=0.001; total time=   0.3s\n",
      "[CV] END .....................................C=100, gamma=1; total time=   0.5s\n",
      "[CV] END .....................................C=100, gamma=1; total time=   0.5s\n",
      "[CV] END .....................................C=100, gamma=1; total time=   0.5s\n",
      "[CV] END .....................................C=100, gamma=1; total time=   0.6s\n",
      "[CV] END .....................................C=100, gamma=1; total time=   0.5s\n",
      "[CV] END ...................................C=100, gamma=0.1; total time=   0.4s\n",
      "[CV] END ...................................C=100, gamma=0.1; total time=   0.4s\n",
      "[CV] END ...................................C=100, gamma=0.1; total time=   0.4s\n",
      "[CV] END ...................................C=100, gamma=0.1; total time=   0.4s\n",
      "[CV] END ...................................C=100, gamma=0.1; total time=   0.4s\n",
      "[CV] END ..................................C=100, gamma=0.01; total time=   0.2s\n",
      "[CV] END ..................................C=100, gamma=0.01; total time=   0.2s\n",
      "[CV] END ..................................C=100, gamma=0.01; total time=   0.3s\n",
      "[CV] END ..................................C=100, gamma=0.01; total time=   0.2s\n",
      "[CV] END ..................................C=100, gamma=0.01; total time=   0.3s\n",
      "[CV] END .................................C=100, gamma=0.001; total time=   0.3s\n",
      "[CV] END .................................C=100, gamma=0.001; total time=   0.3s\n",
      "[CV] END .................................C=100, gamma=0.001; total time=   0.2s\n",
      "[CV] END .................................C=100, gamma=0.001; total time=   0.3s\n",
      "[CV] END .................................C=100, gamma=0.001; total time=   0.3s\n"
     ]
    },
    {
     "data": {
      "text/plain": [
       "GridSearchCV(estimator=SVC(),\n",
       "             param_grid={'C': [0.1, 1, 10, 100],\n",
       "                         'gamma': [1, 0.1, 0.01, 0.001]},\n",
       "             verbose=2)"
      ]
     },
     "execution_count": 16,
     "metadata": {},
     "output_type": "execute_result"
    }
   ],
   "source": [
    "grid=GridSearchCV(SVC(),param_grid,refit=True,verbose=2)\n",
    "grid.fit(x_train,y_train)"
   ]
  },
  {
   "cell_type": "markdown",
   "id": "3765ca89",
   "metadata": {},
   "source": [
    "# Creating the prediction using the test set"
   ]
  },
  {
   "cell_type": "code",
   "execution_count": 17,
   "id": "1f578978",
   "metadata": {},
   "outputs": [
    {
     "name": "stdout",
     "output_type": "stream",
     "text": [
      "0.9043112513144059\n"
     ]
    }
   ],
   "source": [
    "grid_prediction=grid.predict(x_test)\n",
    "accuracy=metrics.accuracy_score(y_test,grid_prediction)\n",
    "print(accuracy)"
   ]
  },
  {
   "cell_type": "markdown",
   "id": "a32ccb57",
   "metadata": {},
   "source": [
    "# Creating classification reports and confusion matrices of the optimized models"
   ]
  },
  {
   "cell_type": "code",
   "execution_count": 18,
   "id": "56b61d7d",
   "metadata": {},
   "outputs": [
    {
     "name": "stdout",
     "output_type": "stream",
     "text": [
      "              precision    recall  f1-score   support\n",
      "\n",
      "           0       0.93      0.88      0.90       471\n",
      "           1       0.89      0.93      0.91       480\n",
      "\n",
      "    accuracy                           0.90       951\n",
      "   macro avg       0.91      0.90      0.90       951\n",
      "weighted avg       0.91      0.90      0.90       951\n",
      "\n"
     ]
    }
   ],
   "source": [
    "classification_report=classification_report(y_test,grid_prediction)\n",
    "\n",
    "print(classification_report)"
   ]
  },
  {
   "cell_type": "code",
   "execution_count": null,
   "id": "4aca1917",
   "metadata": {},
   "outputs": [],
   "source": []
  }
 ],
 "metadata": {
  "kernelspec": {
   "display_name": "Python 3 (ipykernel)",
   "language": "python",
   "name": "python3"
  },
  "language_info": {
   "codemirror_mode": {
    "name": "ipython",
    "version": 3
   },
   "file_extension": ".py",
   "mimetype": "text/x-python",
   "name": "python",
   "nbconvert_exporter": "python",
   "pygments_lexer": "ipython3",
   "version": "3.9.7"
  }
 },
 "nbformat": 4,
 "nbformat_minor": 5
}
